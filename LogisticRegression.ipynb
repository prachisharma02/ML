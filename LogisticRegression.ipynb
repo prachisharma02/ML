{
  "nbformat": 4,
  "nbformat_minor": 0,
  "metadata": {
    "colab": {
      "provenance": [],
      "authorship_tag": "ABX9TyOiA2Se320Esrg81y9EfYPN",
      "include_colab_link": true
    },
    "kernelspec": {
      "name": "python3",
      "display_name": "Python 3"
    },
    "language_info": {
      "name": "python"
    }
  },
  "cells": [
    {
      "cell_type": "markdown",
      "metadata": {
        "id": "view-in-github",
        "colab_type": "text"
      },
      "source": [
        "<a href=\"https://colab.research.google.com/github/prachisharma02/ML/blob/main/LogisticRegression.ipynb\" target=\"_parent\"><img src=\"https://colab.research.google.com/assets/colab-badge.svg\" alt=\"Open In Colab\"/></a>"
      ]
    },
    {
      "cell_type": "code",
      "execution_count": 15,
      "metadata": {
        "id": "5k2Knxo_qONZ"
      },
      "outputs": [],
      "source": [
        "import numpy as np\n",
        "import pandas as pd\n",
        "import matplotlib.pyplot as plt\n",
        "from sklearn.model_selection import train_test_split\n",
        "from sklearn.linear_model import LogisticRegression\n",
        "from sklearn.metrics import mean_squared_error, r2_score,mean_absolute_error\n",
        "from sklearn.preprocessing import StandardScaler\n"
      ]
    },
    {
      "cell_type": "code",
      "source": [
        "url=\"https://raw.githubusercontent.com/prachisharma02/ML/main/Social_Network_Ads.csv\""
      ],
      "metadata": {
        "id": "27vFQiB5rpTW"
      },
      "execution_count": 2,
      "outputs": []
    },
    {
      "cell_type": "code",
      "source": [
        "dataset = pd.read_csv(url)"
      ],
      "metadata": {
        "id": "KiLQ73Yor748"
      },
      "execution_count": 3,
      "outputs": []
    },
    {
      "cell_type": "code",
      "source": [
        "dataset.shape"
      ],
      "metadata": {
        "colab": {
          "base_uri": "https://localhost:8080/"
        },
        "id": "rRRblgKLsFRq",
        "outputId": "b579d43c-06fc-47d4-845a-9340a8e150aa"
      },
      "execution_count": 4,
      "outputs": [
        {
          "output_type": "execute_result",
          "data": {
            "text/plain": [
              "(400, 5)"
            ]
          },
          "metadata": {},
          "execution_count": 4
        }
      ]
    },
    {
      "cell_type": "code",
      "source": [
        "dataset.isnull().sum()"
      ],
      "metadata": {
        "colab": {
          "base_uri": "https://localhost:8080/"
        },
        "id": "tTztuP-asMaB",
        "outputId": "d753e4c3-f68b-48a9-de3c-e285644ae553"
      },
      "execution_count": 5,
      "outputs": [
        {
          "output_type": "execute_result",
          "data": {
            "text/plain": [
              "User ID            0\n",
              "Gender             0\n",
              "Age                0\n",
              "EstimatedSalary    0\n",
              "Purchased          0\n",
              "dtype: int64"
            ]
          },
          "metadata": {},
          "execution_count": 5
        }
      ]
    },
    {
      "cell_type": "code",
      "source": [
        "x=dataset.iloc[:,2:4].values"
      ],
      "metadata": {
        "id": "r1NbQKLpsSie"
      },
      "execution_count": 6,
      "outputs": []
    },
    {
      "cell_type": "code",
      "source": [
        "y=dataset.iloc[:,4].values"
      ],
      "metadata": {
        "id": "MIUxMhFvs5nM"
      },
      "execution_count": 7,
      "outputs": []
    },
    {
      "cell_type": "code",
      "source": [
        "x_train, x_test, y_train, y_test = train_test_split(x, y, test_size=0.2, random_state=0)"
      ],
      "metadata": {
        "id": "FhPosWNTs9yJ"
      },
      "execution_count": 8,
      "outputs": []
    },
    {
      "cell_type": "code",
      "source": [
        "obj=StandardScaler()"
      ],
      "metadata": {
        "id": "dC97cmY0OuHW"
      },
      "execution_count": 16,
      "outputs": []
    },
    {
      "cell_type": "code",
      "source": [
        "x_train=obj.fit_transform(x_train)"
      ],
      "metadata": {
        "id": "qMh5cKQ_O1pt"
      },
      "execution_count": 19,
      "outputs": []
    },
    {
      "cell_type": "code",
      "source": [
        "x_train"
      ],
      "metadata": {
        "id": "1Saf4HmEPLiH",
        "outputId": "fcb04ebb-674b-41b7-8616-abea0817d603",
        "colab": {
          "base_uri": "https://localhost:8080/"
        }
      },
      "execution_count": 20,
      "outputs": [
        {
          "output_type": "execute_result",
          "data": {
            "text/plain": [
              "array([[ 1.92295008e+00,  2.14601566e+00],\n",
              "       [ 2.02016082e+00,  3.78719297e-01],\n",
              "       [-1.38221530e+00, -4.32498705e-01],\n",
              "       [-1.18779381e+00, -1.01194013e+00],\n",
              "       [ 1.92295008e+00, -9.25023920e-01],\n",
              "       [ 3.67578135e-01,  2.91803083e-01],\n",
              "       [ 1.73156642e-01,  1.46942725e-01],\n",
              "       [ 2.02016082e+00,  1.74040666e+00],\n",
              "       [ 7.56421121e-01, -8.38107706e-01],\n",
              "       [ 2.70367388e-01, -2.87638347e-01],\n",
              "       [ 3.67578135e-01, -1.71750061e-01],\n",
              "       [-1.18475597e-01,  2.20395980e+00],\n",
              "       [-1.47942605e+00, -6.35303205e-01],\n",
              "       [-1.28500455e+00, -1.06988428e+00],\n",
              "       [-1.38221530e+00,  4.07691369e-01],\n",
              "       [-1.09058306e+00,  7.55356227e-01],\n",
              "       [-1.47942605e+00, -2.00722133e-01],\n",
              "       [ 9.50842613e-01, -1.06988428e+00],\n",
              "       [ 9.50842613e-01,  5.81523798e-01],\n",
              "       [ 3.67578135e-01,  9.87132798e-01],\n",
              "       [ 5.61999628e-01, -8.96051849e-01],\n",
              "       [-6.04529329e-01,  1.45068594e+00],\n",
              "       [-2.12648508e-02, -5.77359062e-01],\n",
              "       [-6.04529329e-01,  1.88526701e+00],\n",
              "       [ 1.33968560e+00, -1.41754914e+00],\n",
              "       [ 1.43689635e+00,  9.87132798e-01],\n",
              "       [ 7.59458956e-02, -8.09135634e-01],\n",
              "       [-2.12648508e-02, -2.58666276e-01],\n",
              "       [-2.15686344e-01, -5.77359062e-01],\n",
              "       [-2.15686344e-01, -2.00722133e-01],\n",
              "       [-3.12897090e-01, -1.30166085e+00],\n",
              "       [-3.12897090e-01, -5.77359062e-01],\n",
              "       [ 3.67578135e-01,  8.89985821e-02],\n",
              "       [ 8.53631867e-01, -6.06331134e-01],\n",
              "       [ 2.02016082e+00, -1.18577256e+00],\n",
              "       [ 1.04805336e+00, -1.42777990e-01],\n",
              "       [ 6.59210374e-01,  1.76937873e+00],\n",
              "       [-7.01740076e-01,  5.52551726e-01],\n",
              "       [ 7.56421121e-01,  3.49747226e-01],\n",
              "       [ 8.53631867e-01, -5.48386991e-01],\n",
              "       [-1.18779381e+00, -1.59138156e+00],\n",
              "       [ 2.11737157e+00,  9.29188655e-01],\n",
              "       [-2.12648508e-02,  1.21890937e+00],\n",
              "       [ 1.73156642e-01,  1.07404901e+00],\n",
              "       [ 3.67578135e-01, -4.90442848e-01],\n",
              "       [-3.12897090e-01, -3.16610419e-01],\n",
              "       [ 9.50842613e-01, -8.38107706e-01],\n",
              "       [ 9.50842613e-01,  1.85629494e+00],\n",
              "       [-2.12648508e-02,  1.24788144e+00],\n",
              "       [-8.96161568e-01,  2.26190394e+00],\n",
              "       [-1.18779381e+00, -1.59138156e+00],\n",
              "       [ 2.11737157e+00, -8.09135634e-01],\n",
              "       [-1.38221530e+00, -1.47549328e+00],\n",
              "       [ 3.67578135e-01,  2.29087602e+00],\n",
              "       [ 7.56421121e-01,  7.55356227e-01],\n",
              "       [-9.93372315e-01, -3.16610419e-01],\n",
              "       [ 7.59458956e-02,  7.55356227e-01],\n",
              "       [-9.93372315e-01,  5.52551726e-01],\n",
              "       [ 2.70367388e-01,  6.00265106e-02],\n",
              "       [ 6.59210374e-01, -1.27268878e+00],\n",
              "       [-5.07318583e-01, -2.68897039e-02],\n",
              "       [-1.77105829e+00,  3.49747226e-01],\n",
              "       [-7.01740076e-01,  1.17970654e-01],\n",
              "       [ 3.67578135e-01,  2.91803083e-01],\n",
              "       [-3.12897090e-01,  6.00265106e-02],\n",
              "       [-5.07318583e-01,  2.29087602e+00],\n",
              "       [ 1.73156642e-01,  3.10544391e-02],\n",
              "       [ 1.24247485e+00,  2.20395980e+00],\n",
              "       [ 7.56421121e-01,  2.62831011e-01],\n",
              "       [-3.12897090e-01,  1.46942725e-01],\n",
              "       [-2.12648508e-02, -5.48386991e-01],\n",
              "       [-2.15686344e-01,  1.46942725e-01],\n",
              "       [-1.18475597e-01,  2.33858940e-01],\n",
              "       [-2.12648508e-02, -2.58666276e-01],\n",
              "       [ 2.11737157e+00,  1.10302108e+00],\n",
              "       [-1.77105829e+00,  3.49747226e-01],\n",
              "       [ 1.82573933e+00,  1.17970654e-01],\n",
              "       [ 3.67578135e-01, -1.42777990e-01],\n",
              "       [-1.18779381e+00,  2.91803083e-01],\n",
              "       [ 7.56421121e-01,  1.36376973e+00],\n",
              "       [-3.12897090e-01, -2.58666276e-01],\n",
              "       [-1.67384754e+00, -5.58617754e-02],\n",
              "       [-9.93372315e-01, -7.51191491e-01],\n",
              "       [ 2.70367388e-01,  4.94607583e-01],\n",
              "       [-1.18475597e-01, -1.06988428e+00],\n",
              "       [-1.09058306e+00,  5.81523798e-01],\n",
              "       [ 7.59458956e-02, -8.09135634e-01],\n",
              "       [-9.93372315e-01,  1.53760216e+00],\n",
              "       [-7.01740076e-01,  1.39274180e+00],\n",
              "       [-1.28500455e+00,  4.94607583e-01],\n",
              "       [-3.12897090e-01,  3.10544391e-02],\n",
              "       [-1.18475597e-01,  2.08236764e-03],\n",
              "       [-3.12897090e-01, -8.96051849e-01],\n",
              "       [ 8.53631867e-01, -1.35960499e+00],\n",
              "       [-3.12897090e-01,  2.23293187e+00],\n",
              "       [ 9.50842613e-01,  1.97218323e+00],\n",
              "       [-1.18779381e+00,  4.65635512e-01],\n",
              "       [-1.28500455e+00,  2.62831011e-01],\n",
              "       [ 1.33968560e+00,  1.97218323e+00],\n",
              "       [ 1.24247485e+00, -1.35960499e+00],\n",
              "       [-3.12897090e-01, -2.87638347e-01],\n",
              "       [-5.07318583e-01,  1.24788144e+00],\n",
              "       [-7.98950822e-01,  1.07404901e+00],\n",
              "       [ 9.50842613e-01, -1.06988428e+00],\n",
              "       [ 2.70367388e-01,  2.91803083e-01],\n",
              "       [ 9.50842613e-01,  7.55356227e-01],\n",
              "       [-7.01740076e-01, -1.50446535e+00],\n",
              "       [-7.01740076e-01,  3.10544391e-02],\n",
              "       [ 4.64788881e-01,  1.71143459e+00],\n",
              "       [ 2.02016082e+00,  1.75914797e-01],\n",
              "       [-1.96547978e+00, -7.51191491e-01],\n",
              "       [-2.15686344e-01,  1.39274180e+00],\n",
              "       [ 3.67578135e-01,  5.81523798e-01],\n",
              "       [ 8.53631867e-01, -1.15680049e+00],\n",
              "       [-1.18779381e+00, -7.80163563e-01],\n",
              "       [ 1.73156642e-01,  2.33858940e-01],\n",
              "       [ 7.56421121e-01, -3.16610419e-01],\n",
              "       [ 2.02016082e+00, -8.09135634e-01],\n",
              "       [ 7.56421121e-01,  1.17970654e-01],\n",
              "       [-3.12897090e-01,  6.10495869e-01],\n",
              "       [-9.93372315e-01, -3.16610419e-01],\n",
              "       [ 1.73156642e-01, -3.74554562e-01],\n",
              "       [ 2.02016082e+00,  2.11704359e+00],\n",
              "       [ 1.82573933e+00, -1.27268878e+00],\n",
              "       [ 1.33968560e+00, -9.25023920e-01],\n",
              "       [ 8.53631867e-01,  1.24788144e+00],\n",
              "       [ 1.43689635e+00,  2.11704359e+00],\n",
              "       [-3.12897090e-01, -1.24371671e+00],\n",
              "       [ 1.92295008e+00,  9.00216584e-01],\n",
              "       [ 6.59210374e-01, -7.22219420e-01],\n",
              "       [-1.47942605e+00,  3.49747226e-01],\n",
              "       [ 7.56421121e-01, -1.35960499e+00],\n",
              "       [ 3.67578135e-01, -1.42777990e-01],\n",
              "       [-9.93372315e-01,  4.07691369e-01],\n",
              "       [-2.12648508e-02, -3.16610419e-01],\n",
              "       [-1.18779381e+00,  4.07691369e-01],\n",
              "       [-8.96161568e-01, -1.21474464e+00],\n",
              "       [-1.18475597e-01,  3.10544391e-02],\n",
              "       [-1.57663679e+00, -4.32498705e-01],\n",
              "       [ 9.50842613e-01, -1.01194013e+00],\n",
              "       [ 1.04805336e+00, -1.21474464e+00],\n",
              "       [-2.12648508e-02, -1.42777990e-01],\n",
              "       [-1.09058306e+00, -1.53343742e+00],\n",
              "       [ 7.56421121e-01, -1.21474464e+00],\n",
              "       [ 9.50842613e-01,  2.05909944e+00],\n",
              "       [-1.18779381e+00, -1.53343742e+00],\n",
              "       [-3.12897090e-01,  7.84328298e-01],\n",
              "       [ 7.59458956e-02, -3.16610419e-01],\n",
              "       [-1.38221530e+00, -1.24371671e+00],\n",
              "       [-6.04529329e-01, -1.50446535e+00],\n",
              "       [ 7.56421121e-01,  5.23579655e-01],\n",
              "       [-3.12897090e-01, -3.45582490e-01],\n",
              "       [ 1.72852858e+00, -2.87638347e-01],\n",
              "       [ 8.53631867e-01, -1.04091221e+00],\n",
              "       [ 1.73156642e-01,  6.00265106e-02],\n",
              "       [-6.04529329e-01,  8.71244512e-01],\n",
              "       [-1.86826903e+00, -1.41754914e+00],\n",
              "       [-1.28500455e+00,  5.81523798e-01],\n",
              "       [-3.12897090e-01,  5.23579655e-01],\n",
              "       [-9.93372315e-01, -1.09885635e+00],\n",
              "       [ 1.14526411e+00, -1.44652121e+00],\n",
              "       [ 1.73156642e-01, -3.16610419e-01],\n",
              "       [ 1.14526411e+00, -7.51191491e-01],\n",
              "       [-3.12897090e-01,  6.00265106e-02],\n",
              "       [ 1.73156642e-01,  2.08807152e+00],\n",
              "       [ 7.56421121e-01, -1.09885635e+00],\n",
              "       [ 7.59458956e-02,  3.10544391e-02],\n",
              "       [-1.77105829e+00,  1.17970654e-01],\n",
              "       [-8.96161568e-01,  1.46942725e-01],\n",
              "       [-7.01740076e-01,  1.75914797e-01],\n",
              "       [ 8.53631867e-01, -1.30166085e+00],\n",
              "       [ 1.73156642e-01, -2.58666276e-01],\n",
              "       [-4.10107836e-01,  1.21890937e+00],\n",
              "       [-2.12648508e-02,  2.91803083e-01],\n",
              "       [ 3.67578135e-01,  1.46942725e-01],\n",
              "       [ 8.53631867e-01, -6.64275277e-01],\n",
              "       [ 7.59458956e-02,  1.46942725e-01],\n",
              "       [-1.86826903e+00, -1.30166085e+00],\n",
              "       [-1.18475597e-01,  2.91803083e-01],\n",
              "       [-2.15686344e-01, -2.87638347e-01],\n",
              "       [ 2.70367388e-01, -5.19414919e-01],\n",
              "       [-2.15686344e-01,  1.59554630e+00],\n",
              "       [ 9.50842613e-01, -1.18577256e+00],\n",
              "       [-2.15686344e-01,  1.62451837e+00],\n",
              "       [ 1.24247485e+00,  1.85629494e+00],\n",
              "       [-1.09058306e+00, -3.74554562e-01],\n",
              "       [-2.12648508e-02,  3.10544391e-02],\n",
              "       [ 7.59458956e-02, -2.58666276e-01],\n",
              "       [-1.57663679e+00, -1.24371671e+00],\n",
              "       [-5.07318583e-01, -2.87638347e-01],\n",
              "       [ 9.50842613e-01,  1.17970654e-01],\n",
              "       [ 1.92295008e+00, -1.35960499e+00],\n",
              "       [ 1.43689635e+00,  6.00265106e-02],\n",
              "       [-6.04529329e-01,  1.36376973e+00],\n",
              "       [ 1.53410709e+00,  2.08236764e-03],\n",
              "       [-7.98950822e-01,  2.91803083e-01],\n",
              "       [ 1.92295008e+00,  7.26384155e-01],\n",
              "       [-1.18779381e+00, -5.19414919e-01],\n",
              "       [ 6.59210374e-01,  2.62831011e-01],\n",
              "       [-1.38221530e+00, -4.32498705e-01],\n",
              "       [ 1.73156642e-01,  1.46942725e-01],\n",
              "       [-5.07318583e-01, -1.21474464e+00],\n",
              "       [ 5.61999628e-01,  2.00115530e+00],\n",
              "       [-1.57663679e+00, -1.50446535e+00],\n",
              "       [-5.07318583e-01, -5.48386991e-01],\n",
              "       [ 4.64788881e-01,  1.82732287e+00],\n",
              "       [-1.38221530e+00, -1.09885635e+00],\n",
              "       [ 7.56421121e-01, -1.38857706e+00],\n",
              "       [-3.12897090e-01, -4.32498705e-01],\n",
              "       [ 1.53410709e+00,  9.87132798e-01],\n",
              "       [ 9.50842613e-01,  1.42171387e+00],\n",
              "       [-3.12897090e-01, -4.90442848e-01],\n",
              "       [-1.18475597e-01,  2.14601566e+00],\n",
              "       [-1.47942605e+00, -1.13805918e-01],\n",
              "       [-1.18475597e-01,  1.94321116e+00],\n",
              "       [-7.01740076e-01, -3.45582490e-01],\n",
              "       [-5.07318583e-01, -8.38107706e-01],\n",
              "       [ 6.59210374e-01, -1.38857706e+00],\n",
              "       [-7.98950822e-01, -1.59138156e+00],\n",
              "       [-1.86826903e+00, -1.47549328e+00],\n",
              "       [ 1.04805336e+00,  1.17970654e-01],\n",
              "       [ 7.59458956e-02,  1.50863009e+00],\n",
              "       [-3.12897090e-01,  8.89985821e-02],\n",
              "       [ 7.59458956e-02,  3.10544391e-02],\n",
              "       [-1.38221530e+00, -1.35960499e+00],\n",
              "       [ 2.70367388e-01,  6.00265106e-02],\n",
              "       [-8.96161568e-01,  3.78719297e-01],\n",
              "       [ 1.53410709e+00, -1.27268878e+00],\n",
              "       [-3.12897090e-01, -7.51191491e-01],\n",
              "       [-1.18475597e-01,  1.46942725e-01],\n",
              "       [-8.96161568e-01, -6.64275277e-01],\n",
              "       [-7.01740076e-01, -5.58617754e-02],\n",
              "       [ 3.67578135e-01, -4.61470776e-01],\n",
              "       [-7.98950822e-01,  1.88526701e+00],\n",
              "       [ 1.33968560e+00,  1.27685351e+00],\n",
              "       [ 1.14526411e+00, -9.82968063e-01],\n",
              "       [ 1.72852858e+00,  1.82732287e+00],\n",
              "       [-8.96161568e-01, -2.58666276e-01],\n",
              "       [-7.98950822e-01,  5.52551726e-01],\n",
              "       [-1.18779381e+00, -1.56240949e+00],\n",
              "       [-5.07318583e-01, -1.12782842e+00],\n",
              "       [ 2.70367388e-01,  6.00265106e-02],\n",
              "       [-2.15686344e-01, -1.06988428e+00],\n",
              "       [ 1.63131784e+00,  1.59554630e+00],\n",
              "       [ 9.50842613e-01,  1.76937873e+00],\n",
              "       [ 2.70367388e-01,  3.10544391e-02],\n",
              "       [-7.98950822e-01, -2.29694204e-01],\n",
              "       [-1.18475597e-01,  6.00265106e-02],\n",
              "       [ 2.70367388e-01, -2.00722133e-01],\n",
              "       [ 1.92295008e+00, -6.64275277e-01],\n",
              "       [-7.98950822e-01,  1.33479766e+00],\n",
              "       [-1.77105829e+00, -6.06331134e-01],\n",
              "       [-1.18475597e-01,  1.17970654e-01],\n",
              "       [ 2.70367388e-01, -3.16610419e-01],\n",
              "       [ 1.04805336e+00,  5.52551726e-01],\n",
              "       [-9.93372315e-01,  2.62831011e-01],\n",
              "       [ 1.43689635e+00,  3.49747226e-01],\n",
              "       [ 1.73156642e-01, -3.74554562e-01],\n",
              "       [ 2.11737157e+00, -1.04091221e+00],\n",
              "       [-3.12897090e-01,  1.10302108e+00],\n",
              "       [-1.67384754e+00,  6.00265106e-02],\n",
              "       [-2.12648508e-02,  3.10544391e-02],\n",
              "       [ 7.59458956e-02,  1.04507694e+00],\n",
              "       [-1.18475597e-01, -3.74554562e-01],\n",
              "       [-1.18779381e+00,  6.00265106e-02],\n",
              "       [-3.12897090e-01, -1.35960499e+00],\n",
              "       [ 1.53410709e+00,  1.10302108e+00],\n",
              "       [-7.98950822e-01, -1.53343742e+00],\n",
              "       [ 7.59458956e-02,  1.85629494e+00],\n",
              "       [-8.96161568e-01, -7.80163563e-01],\n",
              "       [-5.07318583e-01, -7.80163563e-01],\n",
              "       [-3.12897090e-01, -9.25023920e-01],\n",
              "       [ 2.70367388e-01, -7.22219420e-01],\n",
              "       [ 2.70367388e-01,  6.00265106e-02],\n",
              "       [ 7.59458956e-02,  1.85629494e+00],\n",
              "       [-1.09058306e+00,  1.94321116e+00],\n",
              "       [-1.67384754e+00, -1.56240949e+00],\n",
              "       [-1.18779381e+00, -1.09885635e+00],\n",
              "       [-7.01740076e-01, -1.13805918e-01],\n",
              "       [ 7.59458956e-02,  8.89985821e-02],\n",
              "       [ 2.70367388e-01,  2.62831011e-01],\n",
              "       [ 8.53631867e-01, -5.77359062e-01],\n",
              "       [ 2.70367388e-01, -1.15680049e+00],\n",
              "       [-1.18475597e-01,  6.68440012e-01],\n",
              "       [ 2.11737157e+00, -6.93247348e-01],\n",
              "       [-1.28500455e+00, -1.38857706e+00],\n",
              "       [-9.93372315e-01, -9.53995992e-01],\n",
              "       [-2.12648508e-02, -4.32498705e-01],\n",
              "       [-2.15686344e-01, -4.61470776e-01],\n",
              "       [-1.77105829e+00, -9.82968063e-01],\n",
              "       [ 1.72852858e+00,  9.87132798e-01],\n",
              "       [ 1.73156642e-01, -3.74554562e-01],\n",
              "       [ 3.67578135e-01,  1.10302108e+00],\n",
              "       [-1.77105829e+00, -1.35960499e+00],\n",
              "       [ 1.73156642e-01, -1.42777990e-01],\n",
              "       [ 8.53631867e-01, -1.44652121e+00],\n",
              "       [-1.96547978e+00,  4.65635512e-01],\n",
              "       [-3.12897090e-01,  2.62831011e-01],\n",
              "       [ 1.82573933e+00, -1.06988428e+00],\n",
              "       [-4.10107836e-01,  6.00265106e-02],\n",
              "       [ 1.04805336e+00, -8.96051849e-01],\n",
              "       [-1.09058306e+00, -1.12782842e+00],\n",
              "       [-1.86826903e+00,  2.08236764e-03],\n",
              "       [ 7.59458956e-02,  2.62831011e-01],\n",
              "       [-1.18779381e+00,  3.20775154e-01],\n",
              "       [-1.28500455e+00,  2.91803083e-01],\n",
              "       [-9.93372315e-01,  4.36663440e-01],\n",
              "       [ 1.63131784e+00, -8.96051849e-01],\n",
              "       [ 1.14526411e+00,  5.23579655e-01],\n",
              "       [ 1.04805336e+00,  5.23579655e-01],\n",
              "       [ 1.33968560e+00,  2.31984809e+00],\n",
              "       [-3.12897090e-01, -1.42777990e-01],\n",
              "       [ 3.67578135e-01, -4.61470776e-01],\n",
              "       [-4.10107836e-01, -7.80163563e-01],\n",
              "       [-1.18475597e-01, -5.19414919e-01],\n",
              "       [ 9.50842613e-01, -1.15680049e+00],\n",
              "       [-8.96161568e-01, -7.80163563e-01],\n",
              "       [-2.15686344e-01, -5.19414919e-01],\n",
              "       [-1.09058306e+00, -4.61470776e-01],\n",
              "       [-1.18779381e+00,  1.39274180e+00]])"
            ]
          },
          "metadata": {},
          "execution_count": 20
        }
      ]
    },
    {
      "cell_type": "code",
      "source": [
        "x_test=obj.transform(x_test)"
      ],
      "metadata": {
        "id": "ZHSIXvNdP0Zu"
      },
      "execution_count": 21,
      "outputs": []
    },
    {
      "cell_type": "code",
      "source": [
        "x_test"
      ],
      "metadata": {
        "id": "9K9WKoX-POoN",
        "outputId": "4de2967e-893e-4d36-da58-bdb20daff99e",
        "colab": {
          "base_uri": "https://localhost:8080/"
        }
      },
      "execution_count": 22,
      "outputs": [
        {
          "output_type": "execute_result",
          "data": {
            "text/plain": [
              "array([[-7.98950822e-01,  4.94607583e-01],\n",
              "       [-2.12648508e-02, -5.77359062e-01],\n",
              "       [-3.12897090e-01,  1.46942725e-01],\n",
              "       [-7.98950822e-01,  2.62831011e-01],\n",
              "       [-3.12897090e-01, -5.77359062e-01],\n",
              "       [-1.09058306e+00, -1.44652121e+00],\n",
              "       [-7.01740076e-01, -1.59138156e+00],\n",
              "       [-2.15686344e-01,  2.14601566e+00],\n",
              "       [-1.96547978e+00, -5.58617754e-02],\n",
              "       [ 8.53631867e-01, -7.80163563e-01],\n",
              "       [-7.98950822e-01, -6.06331134e-01],\n",
              "       [-9.93372315e-01, -4.32498705e-01],\n",
              "       [-1.18475597e-01, -4.32498705e-01],\n",
              "       [ 7.59458956e-02,  2.04886868e-01],\n",
              "       [-1.77105829e+00,  4.65635512e-01],\n",
              "       [-6.04529329e-01,  1.36376973e+00],\n",
              "       [-1.18475597e-01,  2.04886868e-01],\n",
              "       [-1.86826903e+00,  4.36663440e-01],\n",
              "       [ 1.63131784e+00,  1.74040666e+00],\n",
              "       [-3.12897090e-01, -1.38857706e+00],\n",
              "       [-3.12897090e-01, -6.64275277e-01],\n",
              "       [ 8.53631867e-01,  2.14601566e+00],\n",
              "       [ 2.70367388e-01, -5.48386991e-01],\n",
              "       [ 8.53631867e-01,  1.01610487e+00],\n",
              "       [-1.47942605e+00, -1.21474464e+00],\n",
              "       [ 1.04805336e+00,  2.05909944e+00],\n",
              "       [-9.93372315e-01,  4.94607583e-01],\n",
              "       [-8.96161568e-01,  2.91803083e-01],\n",
              "       [-1.18475597e-01, -2.29694204e-01],\n",
              "       [-6.04529329e-01,  4.65635512e-01],\n",
              "       [-1.67384754e+00,  5.23579655e-01],\n",
              "       [-1.18475597e-01,  2.62831011e-01],\n",
              "       [ 1.82573933e+00, -2.87638347e-01],\n",
              "       [-1.18475597e-01, -4.90442848e-01],\n",
              "       [-1.38221530e+00, -3.45582490e-01],\n",
              "       [-1.96547978e+00, -5.19414919e-01],\n",
              "       [-1.57663679e+00,  3.20775154e-01],\n",
              "       [-4.10107836e-01, -7.80163563e-01],\n",
              "       [-7.01740076e-01, -1.04091221e+00],\n",
              "       [ 1.04805336e+00, -9.82968063e-01],\n",
              "       [-1.09058306e+00,  5.23579655e-01],\n",
              "       [ 2.70367388e-01, -5.19414919e-01],\n",
              "       [-1.09058306e+00,  4.07691369e-01],\n",
              "       [-3.12897090e-01, -1.44652121e+00],\n",
              "       [ 4.64788881e-01,  1.21890937e+00],\n",
              "       [-1.09058306e+00, -3.45582490e-01],\n",
              "       [-1.18475597e-01,  2.91803083e-01],\n",
              "       [ 1.33968560e+00,  5.81523798e-01],\n",
              "       [-1.18779381e+00, -1.15680049e+00],\n",
              "       [ 1.04805336e+00,  4.65635512e-01],\n",
              "       [ 1.82573933e+00,  1.50863009e+00],\n",
              "       [-4.10107836e-01, -1.30166085e+00],\n",
              "       [-3.12897090e-01, -3.74554562e-01],\n",
              "       [-4.10107836e-01,  1.30582558e+00],\n",
              "       [ 2.02016082e+00,  5.23579655e-01],\n",
              "       [ 6.59210374e-01, -1.09885635e+00],\n",
              "       [-8.96161568e-01,  3.78719297e-01],\n",
              "       [-1.18779381e+00,  2.91803083e-01],\n",
              "       [ 1.04805336e+00, -1.21474464e+00],\n",
              "       [-1.47942605e+00, -1.44652121e+00],\n",
              "       [-6.04529329e-01, -1.50446535e+00],\n",
              "       [ 2.11737157e+00, -8.09135634e-01],\n",
              "       [-1.86826903e+00,  1.75914797e-01],\n",
              "       [-2.15686344e-01,  8.42272441e-01],\n",
              "       [-1.86826903e+00, -1.27268878e+00],\n",
              "       [ 2.11737157e+00,  3.78719297e-01],\n",
              "       [-1.38221530e+00,  5.52551726e-01],\n",
              "       [-1.09058306e+00, -3.45582490e-01],\n",
              "       [ 1.73156642e-01, -6.64275277e-01],\n",
              "       [ 3.67578135e-01,  2.08236764e-03],\n",
              "       [-6.04529329e-01,  2.31984809e+00],\n",
              "       [-3.12897090e-01,  2.04886868e-01],\n",
              "       [-1.57663679e+00, -2.00722133e-01],\n",
              "       [ 6.59210374e-01, -1.38857706e+00],\n",
              "       [-1.09058306e+00,  5.52551726e-01],\n",
              "       [-1.96547978e+00,  3.49747226e-01],\n",
              "       [ 3.67578135e-01,  2.62831011e-01],\n",
              "       [ 1.73156642e-01, -2.87638347e-01],\n",
              "       [ 1.43689635e+00, -1.04091221e+00],\n",
              "       [ 8.53631867e-01,  1.07404901e+00]])"
            ]
          },
          "metadata": {},
          "execution_count": 22
        }
      ]
    },
    {
      "cell_type": "code",
      "source": [
        "reg=LogisticRegression()"
      ],
      "metadata": {
        "id": "S1B1cvpKtPay"
      },
      "execution_count": 23,
      "outputs": []
    },
    {
      "cell_type": "code",
      "source": [
        "reg.fit(x_train,y_train)"
      ],
      "metadata": {
        "colab": {
          "base_uri": "https://localhost:8080/",
          "height": 75
        },
        "id": "jb_sbqJAtSe5",
        "outputId": "83452482-8db5-4a0e-d14e-28faef40b037"
      },
      "execution_count": 24,
      "outputs": [
        {
          "output_type": "execute_result",
          "data": {
            "text/plain": [
              "LogisticRegression()"
            ],
            "text/html": [
              "<style>#sk-container-id-2 {color: black;background-color: white;}#sk-container-id-2 pre{padding: 0;}#sk-container-id-2 div.sk-toggleable {background-color: white;}#sk-container-id-2 label.sk-toggleable__label {cursor: pointer;display: block;width: 100%;margin-bottom: 0;padding: 0.3em;box-sizing: border-box;text-align: center;}#sk-container-id-2 label.sk-toggleable__label-arrow:before {content: \"▸\";float: left;margin-right: 0.25em;color: #696969;}#sk-container-id-2 label.sk-toggleable__label-arrow:hover:before {color: black;}#sk-container-id-2 div.sk-estimator:hover label.sk-toggleable__label-arrow:before {color: black;}#sk-container-id-2 div.sk-toggleable__content {max-height: 0;max-width: 0;overflow: hidden;text-align: left;background-color: #f0f8ff;}#sk-container-id-2 div.sk-toggleable__content pre {margin: 0.2em;color: black;border-radius: 0.25em;background-color: #f0f8ff;}#sk-container-id-2 input.sk-toggleable__control:checked~div.sk-toggleable__content {max-height: 200px;max-width: 100%;overflow: auto;}#sk-container-id-2 input.sk-toggleable__control:checked~label.sk-toggleable__label-arrow:before {content: \"▾\";}#sk-container-id-2 div.sk-estimator input.sk-toggleable__control:checked~label.sk-toggleable__label {background-color: #d4ebff;}#sk-container-id-2 div.sk-label input.sk-toggleable__control:checked~label.sk-toggleable__label {background-color: #d4ebff;}#sk-container-id-2 input.sk-hidden--visually {border: 0;clip: rect(1px 1px 1px 1px);clip: rect(1px, 1px, 1px, 1px);height: 1px;margin: -1px;overflow: hidden;padding: 0;position: absolute;width: 1px;}#sk-container-id-2 div.sk-estimator {font-family: monospace;background-color: #f0f8ff;border: 1px dotted black;border-radius: 0.25em;box-sizing: border-box;margin-bottom: 0.5em;}#sk-container-id-2 div.sk-estimator:hover {background-color: #d4ebff;}#sk-container-id-2 div.sk-parallel-item::after {content: \"\";width: 100%;border-bottom: 1px solid gray;flex-grow: 1;}#sk-container-id-2 div.sk-label:hover label.sk-toggleable__label {background-color: #d4ebff;}#sk-container-id-2 div.sk-serial::before {content: \"\";position: absolute;border-left: 1px solid gray;box-sizing: border-box;top: 0;bottom: 0;left: 50%;z-index: 0;}#sk-container-id-2 div.sk-serial {display: flex;flex-direction: column;align-items: center;background-color: white;padding-right: 0.2em;padding-left: 0.2em;position: relative;}#sk-container-id-2 div.sk-item {position: relative;z-index: 1;}#sk-container-id-2 div.sk-parallel {display: flex;align-items: stretch;justify-content: center;background-color: white;position: relative;}#sk-container-id-2 div.sk-item::before, #sk-container-id-2 div.sk-parallel-item::before {content: \"\";position: absolute;border-left: 1px solid gray;box-sizing: border-box;top: 0;bottom: 0;left: 50%;z-index: -1;}#sk-container-id-2 div.sk-parallel-item {display: flex;flex-direction: column;z-index: 1;position: relative;background-color: white;}#sk-container-id-2 div.sk-parallel-item:first-child::after {align-self: flex-end;width: 50%;}#sk-container-id-2 div.sk-parallel-item:last-child::after {align-self: flex-start;width: 50%;}#sk-container-id-2 div.sk-parallel-item:only-child::after {width: 0;}#sk-container-id-2 div.sk-dashed-wrapped {border: 1px dashed gray;margin: 0 0.4em 0.5em 0.4em;box-sizing: border-box;padding-bottom: 0.4em;background-color: white;}#sk-container-id-2 div.sk-label label {font-family: monospace;font-weight: bold;display: inline-block;line-height: 1.2em;}#sk-container-id-2 div.sk-label-container {text-align: center;}#sk-container-id-2 div.sk-container {/* jupyter's `normalize.less` sets `[hidden] { display: none; }` but bootstrap.min.css set `[hidden] { display: none !important; }` so we also need the `!important` here to be able to override the default hidden behavior on the sphinx rendered scikit-learn.org. See: https://github.com/scikit-learn/scikit-learn/issues/21755 */display: inline-block !important;position: relative;}#sk-container-id-2 div.sk-text-repr-fallback {display: none;}</style><div id=\"sk-container-id-2\" class=\"sk-top-container\"><div class=\"sk-text-repr-fallback\"><pre>LogisticRegression()</pre><b>In a Jupyter environment, please rerun this cell to show the HTML representation or trust the notebook. <br />On GitHub, the HTML representation is unable to render, please try loading this page with nbviewer.org.</b></div><div class=\"sk-container\" hidden><div class=\"sk-item\"><div class=\"sk-estimator sk-toggleable\"><input class=\"sk-toggleable__control sk-hidden--visually\" id=\"sk-estimator-id-2\" type=\"checkbox\" checked><label for=\"sk-estimator-id-2\" class=\"sk-toggleable__label sk-toggleable__label-arrow\">LogisticRegression</label><div class=\"sk-toggleable__content\"><pre>LogisticRegression()</pre></div></div></div></div></div>"
            ]
          },
          "metadata": {},
          "execution_count": 24
        }
      ]
    },
    {
      "cell_type": "code",
      "source": [
        "y_pred = reg.predict(x_test)\n",
        "y_pred"
      ],
      "metadata": {
        "colab": {
          "base_uri": "https://localhost:8080/"
        },
        "id": "r3Pf8HpftYx1",
        "outputId": "f28ebb61-e305-4fe0-9673-46ee480ba846"
      },
      "execution_count": 25,
      "outputs": [
        {
          "output_type": "execute_result",
          "data": {
            "text/plain": [
              "array([0, 0, 0, 0, 0, 0, 0, 1, 0, 0, 0, 0, 0, 0, 0, 0, 0, 0, 1, 0, 0, 1,\n",
              "       0, 1, 0, 1, 0, 0, 0, 0, 0, 0, 1, 0, 0, 0, 0, 0, 0, 1, 0, 0, 0, 0,\n",
              "       1, 0, 0, 1, 0, 1, 1, 0, 0, 0, 1, 0, 0, 0, 0, 0, 0, 1, 0, 0, 0, 1,\n",
              "       0, 0, 0, 0, 1, 0, 0, 0, 0, 0, 1, 0, 1, 1])"
            ]
          },
          "metadata": {},
          "execution_count": 25
        }
      ]
    },
    {
      "cell_type": "code",
      "source": [
        "temp=pd.DataFrame({\"Actual\":y_test,\"Predicted\":y_pred})\n",
        "temp"
      ],
      "metadata": {
        "colab": {
          "base_uri": "https://localhost:8080/",
          "height": 424
        },
        "id": "8Lj1veohvFtS",
        "outputId": "e64c08aa-3a2b-49bf-df0f-af2f40e591bf"
      },
      "execution_count": 26,
      "outputs": [
        {
          "output_type": "execute_result",
          "data": {
            "text/plain": [
              "    Actual  Predicted\n",
              "0        0          0\n",
              "1        0          0\n",
              "2        0          0\n",
              "3        0          0\n",
              "4        0          0\n",
              "..     ...        ...\n",
              "75       0          0\n",
              "76       0          1\n",
              "77       0          0\n",
              "78       1          1\n",
              "79       1          1\n",
              "\n",
              "[80 rows x 2 columns]"
            ],
            "text/html": [
              "\n",
              "  <div id=\"df-4f40c140-e45b-4c01-ad17-7afdf255b729\" class=\"colab-df-container\">\n",
              "    <div>\n",
              "<style scoped>\n",
              "    .dataframe tbody tr th:only-of-type {\n",
              "        vertical-align: middle;\n",
              "    }\n",
              "\n",
              "    .dataframe tbody tr th {\n",
              "        vertical-align: top;\n",
              "    }\n",
              "\n",
              "    .dataframe thead th {\n",
              "        text-align: right;\n",
              "    }\n",
              "</style>\n",
              "<table border=\"1\" class=\"dataframe\">\n",
              "  <thead>\n",
              "    <tr style=\"text-align: right;\">\n",
              "      <th></th>\n",
              "      <th>Actual</th>\n",
              "      <th>Predicted</th>\n",
              "    </tr>\n",
              "  </thead>\n",
              "  <tbody>\n",
              "    <tr>\n",
              "      <th>0</th>\n",
              "      <td>0</td>\n",
              "      <td>0</td>\n",
              "    </tr>\n",
              "    <tr>\n",
              "      <th>1</th>\n",
              "      <td>0</td>\n",
              "      <td>0</td>\n",
              "    </tr>\n",
              "    <tr>\n",
              "      <th>2</th>\n",
              "      <td>0</td>\n",
              "      <td>0</td>\n",
              "    </tr>\n",
              "    <tr>\n",
              "      <th>3</th>\n",
              "      <td>0</td>\n",
              "      <td>0</td>\n",
              "    </tr>\n",
              "    <tr>\n",
              "      <th>4</th>\n",
              "      <td>0</td>\n",
              "      <td>0</td>\n",
              "    </tr>\n",
              "    <tr>\n",
              "      <th>...</th>\n",
              "      <td>...</td>\n",
              "      <td>...</td>\n",
              "    </tr>\n",
              "    <tr>\n",
              "      <th>75</th>\n",
              "      <td>0</td>\n",
              "      <td>0</td>\n",
              "    </tr>\n",
              "    <tr>\n",
              "      <th>76</th>\n",
              "      <td>0</td>\n",
              "      <td>1</td>\n",
              "    </tr>\n",
              "    <tr>\n",
              "      <th>77</th>\n",
              "      <td>0</td>\n",
              "      <td>0</td>\n",
              "    </tr>\n",
              "    <tr>\n",
              "      <th>78</th>\n",
              "      <td>1</td>\n",
              "      <td>1</td>\n",
              "    </tr>\n",
              "    <tr>\n",
              "      <th>79</th>\n",
              "      <td>1</td>\n",
              "      <td>1</td>\n",
              "    </tr>\n",
              "  </tbody>\n",
              "</table>\n",
              "<p>80 rows × 2 columns</p>\n",
              "</div>\n",
              "    <div class=\"colab-df-buttons\">\n",
              "\n",
              "  <div class=\"colab-df-container\">\n",
              "    <button class=\"colab-df-convert\" onclick=\"convertToInteractive('df-4f40c140-e45b-4c01-ad17-7afdf255b729')\"\n",
              "            title=\"Convert this dataframe to an interactive table.\"\n",
              "            style=\"display:none;\">\n",
              "\n",
              "  <svg xmlns=\"http://www.w3.org/2000/svg\" height=\"24px\" viewBox=\"0 -960 960 960\">\n",
              "    <path d=\"M120-120v-720h720v720H120Zm60-500h600v-160H180v160Zm220 220h160v-160H400v160Zm0 220h160v-160H400v160ZM180-400h160v-160H180v160Zm440 0h160v-160H620v160ZM180-180h160v-160H180v160Zm440 0h160v-160H620v160Z\"/>\n",
              "  </svg>\n",
              "    </button>\n",
              "\n",
              "  <style>\n",
              "    .colab-df-container {\n",
              "      display:flex;\n",
              "      gap: 12px;\n",
              "    }\n",
              "\n",
              "    .colab-df-convert {\n",
              "      background-color: #E8F0FE;\n",
              "      border: none;\n",
              "      border-radius: 50%;\n",
              "      cursor: pointer;\n",
              "      display: none;\n",
              "      fill: #1967D2;\n",
              "      height: 32px;\n",
              "      padding: 0 0 0 0;\n",
              "      width: 32px;\n",
              "    }\n",
              "\n",
              "    .colab-df-convert:hover {\n",
              "      background-color: #E2EBFA;\n",
              "      box-shadow: 0px 1px 2px rgba(60, 64, 67, 0.3), 0px 1px 3px 1px rgba(60, 64, 67, 0.15);\n",
              "      fill: #174EA6;\n",
              "    }\n",
              "\n",
              "    .colab-df-buttons div {\n",
              "      margin-bottom: 4px;\n",
              "    }\n",
              "\n",
              "    [theme=dark] .colab-df-convert {\n",
              "      background-color: #3B4455;\n",
              "      fill: #D2E3FC;\n",
              "    }\n",
              "\n",
              "    [theme=dark] .colab-df-convert:hover {\n",
              "      background-color: #434B5C;\n",
              "      box-shadow: 0px 1px 3px 1px rgba(0, 0, 0, 0.15);\n",
              "      filter: drop-shadow(0px 1px 2px rgba(0, 0, 0, 0.3));\n",
              "      fill: #FFFFFF;\n",
              "    }\n",
              "  </style>\n",
              "\n",
              "    <script>\n",
              "      const buttonEl =\n",
              "        document.querySelector('#df-4f40c140-e45b-4c01-ad17-7afdf255b729 button.colab-df-convert');\n",
              "      buttonEl.style.display =\n",
              "        google.colab.kernel.accessAllowed ? 'block' : 'none';\n",
              "\n",
              "      async function convertToInteractive(key) {\n",
              "        const element = document.querySelector('#df-4f40c140-e45b-4c01-ad17-7afdf255b729');\n",
              "        const dataTable =\n",
              "          await google.colab.kernel.invokeFunction('convertToInteractive',\n",
              "                                                    [key], {});\n",
              "        if (!dataTable) return;\n",
              "\n",
              "        const docLinkHtml = 'Like what you see? Visit the ' +\n",
              "          '<a target=\"_blank\" href=https://colab.research.google.com/notebooks/data_table.ipynb>data table notebook</a>'\n",
              "          + ' to learn more about interactive tables.';\n",
              "        element.innerHTML = '';\n",
              "        dataTable['output_type'] = 'display_data';\n",
              "        await google.colab.output.renderOutput(dataTable, element);\n",
              "        const docLink = document.createElement('div');\n",
              "        docLink.innerHTML = docLinkHtml;\n",
              "        element.appendChild(docLink);\n",
              "      }\n",
              "    </script>\n",
              "  </div>\n",
              "\n",
              "\n",
              "<div id=\"df-10e79661-bc59-4203-8633-554f604b3583\">\n",
              "  <button class=\"colab-df-quickchart\" onclick=\"quickchart('df-10e79661-bc59-4203-8633-554f604b3583')\"\n",
              "            title=\"Suggest charts.\"\n",
              "            style=\"display:none;\">\n",
              "\n",
              "<svg xmlns=\"http://www.w3.org/2000/svg\" height=\"24px\"viewBox=\"0 0 24 24\"\n",
              "     width=\"24px\">\n",
              "    <g>\n",
              "        <path d=\"M19 3H5c-1.1 0-2 .9-2 2v14c0 1.1.9 2 2 2h14c1.1 0 2-.9 2-2V5c0-1.1-.9-2-2-2zM9 17H7v-7h2v7zm4 0h-2V7h2v10zm4 0h-2v-4h2v4z\"/>\n",
              "    </g>\n",
              "</svg>\n",
              "  </button>\n",
              "\n",
              "<style>\n",
              "  .colab-df-quickchart {\n",
              "      --bg-color: #E8F0FE;\n",
              "      --fill-color: #1967D2;\n",
              "      --hover-bg-color: #E2EBFA;\n",
              "      --hover-fill-color: #174EA6;\n",
              "      --disabled-fill-color: #AAA;\n",
              "      --disabled-bg-color: #DDD;\n",
              "  }\n",
              "\n",
              "  [theme=dark] .colab-df-quickchart {\n",
              "      --bg-color: #3B4455;\n",
              "      --fill-color: #D2E3FC;\n",
              "      --hover-bg-color: #434B5C;\n",
              "      --hover-fill-color: #FFFFFF;\n",
              "      --disabled-bg-color: #3B4455;\n",
              "      --disabled-fill-color: #666;\n",
              "  }\n",
              "\n",
              "  .colab-df-quickchart {\n",
              "    background-color: var(--bg-color);\n",
              "    border: none;\n",
              "    border-radius: 50%;\n",
              "    cursor: pointer;\n",
              "    display: none;\n",
              "    fill: var(--fill-color);\n",
              "    height: 32px;\n",
              "    padding: 0;\n",
              "    width: 32px;\n",
              "  }\n",
              "\n",
              "  .colab-df-quickchart:hover {\n",
              "    background-color: var(--hover-bg-color);\n",
              "    box-shadow: 0 1px 2px rgba(60, 64, 67, 0.3), 0 1px 3px 1px rgba(60, 64, 67, 0.15);\n",
              "    fill: var(--button-hover-fill-color);\n",
              "  }\n",
              "\n",
              "  .colab-df-quickchart-complete:disabled,\n",
              "  .colab-df-quickchart-complete:disabled:hover {\n",
              "    background-color: var(--disabled-bg-color);\n",
              "    fill: var(--disabled-fill-color);\n",
              "    box-shadow: none;\n",
              "  }\n",
              "\n",
              "  .colab-df-spinner {\n",
              "    border: 2px solid var(--fill-color);\n",
              "    border-color: transparent;\n",
              "    border-bottom-color: var(--fill-color);\n",
              "    animation:\n",
              "      spin 1s steps(1) infinite;\n",
              "  }\n",
              "\n",
              "  @keyframes spin {\n",
              "    0% {\n",
              "      border-color: transparent;\n",
              "      border-bottom-color: var(--fill-color);\n",
              "      border-left-color: var(--fill-color);\n",
              "    }\n",
              "    20% {\n",
              "      border-color: transparent;\n",
              "      border-left-color: var(--fill-color);\n",
              "      border-top-color: var(--fill-color);\n",
              "    }\n",
              "    30% {\n",
              "      border-color: transparent;\n",
              "      border-left-color: var(--fill-color);\n",
              "      border-top-color: var(--fill-color);\n",
              "      border-right-color: var(--fill-color);\n",
              "    }\n",
              "    40% {\n",
              "      border-color: transparent;\n",
              "      border-right-color: var(--fill-color);\n",
              "      border-top-color: var(--fill-color);\n",
              "    }\n",
              "    60% {\n",
              "      border-color: transparent;\n",
              "      border-right-color: var(--fill-color);\n",
              "    }\n",
              "    80% {\n",
              "      border-color: transparent;\n",
              "      border-right-color: var(--fill-color);\n",
              "      border-bottom-color: var(--fill-color);\n",
              "    }\n",
              "    90% {\n",
              "      border-color: transparent;\n",
              "      border-bottom-color: var(--fill-color);\n",
              "    }\n",
              "  }\n",
              "</style>\n",
              "\n",
              "  <script>\n",
              "    async function quickchart(key) {\n",
              "      const quickchartButtonEl =\n",
              "        document.querySelector('#' + key + ' button');\n",
              "      quickchartButtonEl.disabled = true;  // To prevent multiple clicks.\n",
              "      quickchartButtonEl.classList.add('colab-df-spinner');\n",
              "      try {\n",
              "        const charts = await google.colab.kernel.invokeFunction(\n",
              "            'suggestCharts', [key], {});\n",
              "      } catch (error) {\n",
              "        console.error('Error during call to suggestCharts:', error);\n",
              "      }\n",
              "      quickchartButtonEl.classList.remove('colab-df-spinner');\n",
              "      quickchartButtonEl.classList.add('colab-df-quickchart-complete');\n",
              "    }\n",
              "    (() => {\n",
              "      let quickchartButtonEl =\n",
              "        document.querySelector('#df-10e79661-bc59-4203-8633-554f604b3583 button');\n",
              "      quickchartButtonEl.style.display =\n",
              "        google.colab.kernel.accessAllowed ? 'block' : 'none';\n",
              "    })();\n",
              "  </script>\n",
              "</div>\n",
              "    </div>\n",
              "  </div>\n"
            ]
          },
          "metadata": {},
          "execution_count": 26
        }
      ]
    },
    {
      "cell_type": "code",
      "source": [
        "from  sklearn.metrics import confusion_matrix"
      ],
      "metadata": {
        "id": "jH1-m8BBwGph"
      },
      "execution_count": 27,
      "outputs": []
    },
    {
      "cell_type": "code",
      "source": [
        "cm=confusion_matrix(y_test,y_pred)\n",
        "cm   # 58 sahi classify hui hain true positive"
      ],
      "metadata": {
        "colab": {
          "base_uri": "https://localhost:8080/"
        },
        "id": "NgH6Bjxqweab",
        "outputId": "d94e14a9-6493-4c0b-8149-36c52f7da5d1"
      },
      "execution_count": 28,
      "outputs": [
        {
          "output_type": "execute_result",
          "data": {
            "text/plain": [
              "array([[57,  1],\n",
              "       [ 5, 17]])"
            ]
          },
          "metadata": {},
          "execution_count": 28
        }
      ]
    },
    {
      "cell_type": "code",
      "source": [
        "import seaborn as sns"
      ],
      "metadata": {
        "id": "3CiLfoEyxHEt"
      },
      "execution_count": 29,
      "outputs": []
    },
    {
      "cell_type": "code",
      "source": [
        "sns.heatmap(cm,annot=True)"
      ],
      "metadata": {
        "id": "Y1wY1KMHQ4Nm",
        "outputId": "96ab7b26-06ee-49ce-d67d-f1c9821c8097",
        "colab": {
          "base_uri": "https://localhost:8080/",
          "height": 447
        }
      },
      "execution_count": 31,
      "outputs": [
        {
          "output_type": "execute_result",
          "data": {
            "text/plain": [
              "<Axes: >"
            ]
          },
          "metadata": {},
          "execution_count": 31
        },
        {
          "output_type": "display_data",
          "data": {
            "text/plain": [
              "<Figure size 640x480 with 2 Axes>"
            ],
            "image/png": "[encoded data removed]"
          },
          "metadata": {}
        }
      ]
    }
  ]
}